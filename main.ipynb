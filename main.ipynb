{
 "cells": [
  {
   "attachments": {},
   "cell_type": "markdown",
   "metadata": {},
   "source": [
    "# Tugas Minggu 4 - Data Sains Untuk Kompetisi\n",
    "\n",
    "`Ariq Heritsa Maalik - 1305213031 - DS4501`\n",
    "\n",
    "sourcecode notebook ini dapat dilihat di [github](https://github.com)"
   ]
  },
  {
   "attachments": {},
   "cell_type": "markdown",
   "metadata": {},
   "source": [
    "## Soal 1 dan 2 - Jaccard Similarity\n",
    "\n",
    "Merupakan metode untuk mengukur seberapa mirip dua set data. Metode ini didefinisikan sebagai rasio antara ukuran irisan dari dua set data dengan ukuran gabungan dari dua set data tersebut."
   ]
  },
  {
   "attachments": {},
   "cell_type": "markdown",
   "metadata": {},
   "source": [
    "### Importing required libraries"
   ]
  },
  {
   "cell_type": "code",
   "execution_count": 9,
   "metadata": {},
   "outputs": [],
   "source": [
    "# Kita akan menggunakan PyPDF2 untuk mengambil text yang berasal dari file PDF\n",
    "import PyPDF2\n",
    "\n",
    "# Kita akan menggunakan re untuk melakukan ekstraksi text\n",
    "import re"
   ]
  },
  {
   "attachments": {},
   "cell_type": "markdown",
   "metadata": {},
   "source": [
    "### Creating Functions"
   ]
  },
  {
   "attachments": {},
   "cell_type": "markdown",
   "metadata": {},
   "source": [
    "#### Get Words From PDF\n",
    "Fungsi ini digunakan untuk mengambil kata-kata dari dokumen PDF. Pada langkah awal, kita akan membaca sebuah file menggunakan fungsi `read_pdf` dengan mode `rb`. Mode `rb` sendiri berarti kita akan membaca file dalam bentuk binary. Setelah itu, kita akan membaca file pdf tersebut menggunakan fungsi `PdfReader`.\n",
    "\n",
    "Kita akan membuat sebuah variabel `text` untuk menampung semua kata-kata yang ada di dalam dokumen pdf. Setelah itu, kita akan melakukan perulangan untuk setiap halaman yang ada di dalam dokumen tersebut. Pada setiap halaman, kita akan melakukan perulangan untuk setiap kata dan mengekstraknya agar formatnya lebih rapi. Setiap kata yang didapatkan, kita akan menambahkan ke dalam variabel `text`.\n",
    "\n",
    "input: berupa path dari dokumen PDF\n",
    "\n",
    "output: berupa list kata-kata yang ada di dalam dokumen PDF"
   ]
  },
  {
   "cell_type": "code",
   "execution_count": 10,
   "metadata": {},
   "outputs": [],
   "source": [
    "# Fungsi ini akan mengembalikan set dari kata-kata yang ada di dalam file PDF\n",
    "def get_words_from_pdf(file_path):\n",
    "    # Buka file PDF\n",
    "    pdf_file = open(file_path, 'rb')\n",
    "\n",
    "    # Baca file PDF\n",
    "    read_pdf = PyPDF2.PdfReader(pdf_file)\n",
    "\n",
    "    text = ''\n",
    "    \n",
    "    # Perulangan untuk setiap halaman di dalam file PDF\n",
    "    for i in range(len(read_pdf.pages)):\n",
    "        # Ekstraksi text dari halaman ke-i\n",
    "        page = read_pdf.pages[i]\n",
    "        # Tambahkan text dari halaman ke-i ke variabel text\n",
    "        text += page.extract_text()\n",
    "    \n",
    "    # Mengubah text menjadi huruf kecil dan memisahkan kata-kata\n",
    "    words = re.findall('\\w+', text.lower())\n",
    "\n",
    "    # Mengembalikan set dari kata-kata yang ada di dalam file PDF\n",
    "    return set(words)"
   ]
  },
  {
   "attachments": {},
   "cell_type": "markdown",
   "metadata": {},
   "source": [
    "#### Menghitung Jaccard Similarity\n",
    "\n",
    "Fungsi ini akan mengembalikan nilai Jaccard Similarity dari dua buah dokumen PDF. Masukan berupa dua buah himpunan kata-kata. Keluarannya berupa nilai Jaccard Similarity dengan persamaan sebagai berikut:\n",
    "\n",
    "$$J(A,B) = \\frac{|A\\cap B|}{|A\\cup B|}$$"
   ]
  },
  {
   "cell_type": "code",
   "execution_count": 11,
   "metadata": {},
   "outputs": [],
   "source": [
    "#  Fungsi ini akan mengembalikan nilai Jaccard Similarity dari dua set\n",
    "def jaccard_similarity(set1, set2):\n",
    "    # Menghitung nilai irisan dari dua set\n",
    "    intersection = set1.intersection(set2)\n",
    "\n",
    "    # Menghitung nilai gabungan dari dua set\n",
    "    union = set1.union(set2)\n",
    "\n",
    "    # Mengembalikan nilai Jaccard Similarity\n",
    "    return len(intersection) / len(union)"
   ]
  },
  {
   "attachments": {},
   "cell_type": "markdown",
   "metadata": {},
   "source": [
    "### Main Program\n",
    "\n",
    "Di sini kita akan memanggil fungsi-fungsi yang telah kita buat sebelumnya. Pertama, kita akan memanggil fungsi `get_words_from_pdf` untuk mendapatkan list kata-kata dari dua buah dokumen PDF. Setelah itu, kita akan menghitung nilai Jaccard Similarity dari kedua buah dokumen tersebut.\n",
    "\n",
    "Hasilnya berupa nilai Jaccard Similarity dari kedua buah dokumen tersebut."
   ]
  },
  {
   "cell_type": "code",
   "execution_count": 12,
   "metadata": {},
   "outputs": [
    {
     "name": "stdout",
     "output_type": "stream",
     "text": [
      "The Jaccard similarity between document1.pdf and document2.pdf is 51.35%\n"
     ]
    }
   ],
   "source": [
    "# Deklarasi path dari file PDF\n",
    "pdf1_path = 'document1.pdf'\n",
    "pdf2_path = 'document2.pdf'\n",
    "\n",
    "# Ekstraksi kata-kata dari file PDF\n",
    "words1 = get_words_from_pdf(pdf1_path)\n",
    "words2 = get_words_from_pdf(pdf2_path)\n",
    "\n",
    "# Menghitung nilai Jaccard Similarity\n",
    "similarity = jaccard_similarity(words1, words2)\n",
    "\n",
    "# Menampilkan nilai Jaccard Similarity\n",
    "print(f'The Jaccard similarity between {pdf1_path} and {pdf2_path} is {similarity*100:.2f}%')"
   ]
  },
  {
   "attachments": {},
   "cell_type": "markdown",
   "metadata": {},
   "source": [
    "## Soal No. 3\n",
    "\n",
    "Angka tersebut merupakan hasil dari normalisasi vektor. Normalisasi vektor didapat dengan cara $$\\hat{u} = \\frac{u}{|u|}$$\n",
    "\n",
    "Dimana $u$ adalah vektor yang akan dinormalisasi dan $|u|$ adalah panjang vektor $u$."
   ]
  }
 ],
 "metadata": {
  "kernelspec": {
   "display_name": "Python 3",
   "language": "python",
   "name": "python3"
  },
  "language_info": {
   "codemirror_mode": {
    "name": "ipython",
    "version": 3
   },
   "file_extension": ".py",
   "mimetype": "text/x-python",
   "name": "python",
   "nbconvert_exporter": "python",
   "pygments_lexer": "ipython3",
   "version": "3.10.3"
  },
  "orig_nbformat": 4
 },
 "nbformat": 4,
 "nbformat_minor": 2
}
